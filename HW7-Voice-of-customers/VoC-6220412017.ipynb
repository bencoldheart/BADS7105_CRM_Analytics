{
 "cells": [
  {
   "cell_type": "markdown",
   "metadata": {
    "id": "WrQbd86APp-2"
   },
   "source": [
    "**Step 0 - install and import dependencies**"
   ]
  },
  {
   "cell_type": "code",
   "execution_count": 29,
   "metadata": {},
   "outputs": [],
   "source": [
    "!pip freeze >> ./requirements.txt"
   ]
  },
  {
   "cell_type": "code",
   "execution_count": 1,
   "metadata": {
    "colab": {
     "base_uri": "https://localhost:8080/"
    },
    "executionInfo": {
     "elapsed": 14330,
     "status": "ok",
     "timestamp": 1636856092291,
     "user": {
      "displayName": "Thanachart Ritbumroong",
      "photoUrl": "https://lh3.googleusercontent.com/a/default-user=s64",
      "userId": "18414212507793256437"
     },
     "user_tz": -420
    },
    "id": "bF2rn-l5Rp4U",
    "outputId": "7cd7f7b3-847f-45f4-c596-74a475075c1a"
   },
   "outputs": [
    {
     "name": "stdout",
     "output_type": "stream",
     "text": [
      "Requirement already satisfied: pythainlp in /opt/miniconda3/envs/bads7105/lib/python3.6/site-packages (2.3.2)\n",
      "Requirement already satisfied: python-crfsuite>=0.9.6 in /opt/miniconda3/envs/bads7105/lib/python3.6/site-packages (from pythainlp) (0.9.7)\n",
      "Requirement already satisfied: tinydb>=3.0 in /opt/miniconda3/envs/bads7105/lib/python3.6/site-packages (from pythainlp) (4.5.2)\n",
      "Requirement already satisfied: requests>=2.22.0 in /opt/miniconda3/envs/bads7105/lib/python3.6/site-packages (from pythainlp) (2.24.0)\n",
      "Requirement already satisfied: chardet<4,>=3.0.2 in /opt/miniconda3/envs/bads7105/lib/python3.6/site-packages (from requests>=2.22.0->pythainlp) (3.0.4)\n",
      "Requirement already satisfied: idna<3,>=2.5 in /opt/miniconda3/envs/bads7105/lib/python3.6/site-packages (from requests>=2.22.0->pythainlp) (2.10)\n",
      "Requirement already satisfied: urllib3!=1.25.0,!=1.25.1,<1.26,>=1.21.1 in /opt/miniconda3/envs/bads7105/lib/python3.6/site-packages (from requests>=2.22.0->pythainlp) (1.25.11)\n",
      "Requirement already satisfied: certifi>=2017.4.17 in /opt/miniconda3/envs/bads7105/lib/python3.6/site-packages (from requests>=2.22.0->pythainlp) (2021.5.30)\n",
      "Collecting typing-extensions<4.0.0,>=3.10.0\n",
      "  Using cached typing_extensions-3.10.0.2-py3-none-any.whl (26 kB)\n",
      "Installing collected packages: typing-extensions\n",
      "  Attempting uninstall: typing-extensions\n",
      "    Found existing installation: typing-extensions 3.7.4.3\n",
      "    Uninstalling typing-extensions-3.7.4.3:\n",
      "      Successfully uninstalled typing-extensions-3.7.4.3\n",
      "\u001b[31mERROR: pip's dependency resolver does not currently take into account all the packages that are installed. This behaviour is the source of the following dependency conflicts.\n",
      "tensorflow 2.6.2 requires typing-extensions~=3.7.4, but you have typing-extensions 3.10.0.2 which is incompatible.\u001b[0m\n",
      "Successfully installed typing-extensions-3.10.0.2\n",
      "Requirement already satisfied: tensorflow_text in /opt/miniconda3/envs/bads7105/lib/python3.6/site-packages (2.6.0)\n",
      "Requirement already satisfied: tensorflow-hub>=0.8.0 in /opt/miniconda3/envs/bads7105/lib/python3.6/site-packages (from tensorflow_text) (0.12.0)\n",
      "Requirement already satisfied: tensorflow<2.7,>=2.6.0 in /opt/miniconda3/envs/bads7105/lib/python3.6/site-packages (from tensorflow_text) (2.6.2)\n",
      "Requirement already satisfied: google-pasta~=0.2 in /opt/miniconda3/envs/bads7105/lib/python3.6/site-packages (from tensorflow<2.7,>=2.6.0->tensorflow_text) (0.2.0)\n",
      "Requirement already satisfied: wrapt~=1.12.1 in /opt/miniconda3/envs/bads7105/lib/python3.6/site-packages (from tensorflow<2.7,>=2.6.0->tensorflow_text) (1.12.1)\n",
      "Requirement already satisfied: astunparse~=1.6.3 in /opt/miniconda3/envs/bads7105/lib/python3.6/site-packages (from tensorflow<2.7,>=2.6.0->tensorflow_text) (1.6.3)\n",
      "Requirement already satisfied: h5py~=3.1.0 in /opt/miniconda3/envs/bads7105/lib/python3.6/site-packages (from tensorflow<2.7,>=2.6.0->tensorflow_text) (3.1.0)\n",
      "Requirement already satisfied: flatbuffers~=1.12.0 in /opt/miniconda3/envs/bads7105/lib/python3.6/site-packages (from tensorflow<2.7,>=2.6.0->tensorflow_text) (1.12)\n",
      "Requirement already satisfied: tensorflow-estimator<2.7,>=2.6.0 in /opt/miniconda3/envs/bads7105/lib/python3.6/site-packages (from tensorflow<2.7,>=2.6.0->tensorflow_text) (2.6.0)\n",
      "Requirement already satisfied: six~=1.15.0 in /opt/miniconda3/envs/bads7105/lib/python3.6/site-packages (from tensorflow<2.7,>=2.6.0->tensorflow_text) (1.15.0)\n",
      "Requirement already satisfied: protobuf>=3.9.2 in /opt/miniconda3/envs/bads7105/lib/python3.6/site-packages (from tensorflow<2.7,>=2.6.0->tensorflow_text) (3.19.1)\n",
      "Collecting typing-extensions~=3.7.4\n",
      "  Using cached typing_extensions-3.7.4.3-py3-none-any.whl (22 kB)\n",
      "Requirement already satisfied: termcolor~=1.1.0 in /opt/miniconda3/envs/bads7105/lib/python3.6/site-packages (from tensorflow<2.7,>=2.6.0->tensorflow_text) (1.1.0)\n",
      "Requirement already satisfied: gast==0.4.0 in /opt/miniconda3/envs/bads7105/lib/python3.6/site-packages (from tensorflow<2.7,>=2.6.0->tensorflow_text) (0.4.0)\n",
      "Requirement already satisfied: keras-preprocessing~=1.1.2 in /opt/miniconda3/envs/bads7105/lib/python3.6/site-packages (from tensorflow<2.7,>=2.6.0->tensorflow_text) (1.1.2)\n",
      "Requirement already satisfied: grpcio<2.0,>=1.37.0 in /opt/miniconda3/envs/bads7105/lib/python3.6/site-packages (from tensorflow<2.7,>=2.6.0->tensorflow_text) (1.42.0)\n",
      "Requirement already satisfied: tensorboard<2.7,>=2.6.0 in /opt/miniconda3/envs/bads7105/lib/python3.6/site-packages (from tensorflow<2.7,>=2.6.0->tensorflow_text) (2.6.0)\n",
      "Requirement already satisfied: numpy~=1.19.2 in /opt/miniconda3/envs/bads7105/lib/python3.6/site-packages (from tensorflow<2.7,>=2.6.0->tensorflow_text) (1.19.5)\n",
      "Requirement already satisfied: absl-py~=0.10 in /opt/miniconda3/envs/bads7105/lib/python3.6/site-packages (from tensorflow<2.7,>=2.6.0->tensorflow_text) (0.15.0)\n",
      "Requirement already satisfied: keras<2.7,>=2.6.0 in /opt/miniconda3/envs/bads7105/lib/python3.6/site-packages (from tensorflow<2.7,>=2.6.0->tensorflow_text) (2.6.0)\n",
      "Requirement already satisfied: clang~=5.0 in /opt/miniconda3/envs/bads7105/lib/python3.6/site-packages (from tensorflow<2.7,>=2.6.0->tensorflow_text) (5.0)\n",
      "Requirement already satisfied: opt-einsum~=3.3.0 in /opt/miniconda3/envs/bads7105/lib/python3.6/site-packages (from tensorflow<2.7,>=2.6.0->tensorflow_text) (3.3.0)\n",
      "Requirement already satisfied: wheel~=0.35 in /opt/miniconda3/envs/bads7105/lib/python3.6/site-packages (from tensorflow<2.7,>=2.6.0->tensorflow_text) (0.37.0)\n",
      "Requirement already satisfied: cached-property in /opt/miniconda3/envs/bads7105/lib/python3.6/site-packages (from h5py~=3.1.0->tensorflow<2.7,>=2.6.0->tensorflow_text) (1.5.2)\n",
      "Requirement already satisfied: tensorboard-plugin-wit>=1.6.0 in /opt/miniconda3/envs/bads7105/lib/python3.6/site-packages (from tensorboard<2.7,>=2.6.0->tensorflow<2.7,>=2.6.0->tensorflow_text) (1.8.0)\n",
      "Requirement already satisfied: tensorboard-data-server<0.7.0,>=0.6.0 in /opt/miniconda3/envs/bads7105/lib/python3.6/site-packages (from tensorboard<2.7,>=2.6.0->tensorflow<2.7,>=2.6.0->tensorflow_text) (0.6.1)\n",
      "Requirement already satisfied: markdown>=2.6.8 in /opt/miniconda3/envs/bads7105/lib/python3.6/site-packages (from tensorboard<2.7,>=2.6.0->tensorflow<2.7,>=2.6.0->tensorflow_text) (3.3.6)\n",
      "Requirement already satisfied: google-auth<2,>=1.6.3 in /opt/miniconda3/envs/bads7105/lib/python3.6/site-packages (from tensorboard<2.7,>=2.6.0->tensorflow<2.7,>=2.6.0->tensorflow_text) (1.35.0)\n",
      "Requirement already satisfied: requests<3,>=2.21.0 in /opt/miniconda3/envs/bads7105/lib/python3.6/site-packages (from tensorboard<2.7,>=2.6.0->tensorflow<2.7,>=2.6.0->tensorflow_text) (2.24.0)\n",
      "Requirement already satisfied: setuptools>=41.0.0 in /opt/miniconda3/envs/bads7105/lib/python3.6/site-packages (from tensorboard<2.7,>=2.6.0->tensorflow<2.7,>=2.6.0->tensorflow_text) (59.2.0)\n",
      "Requirement already satisfied: werkzeug>=0.11.15 in /opt/miniconda3/envs/bads7105/lib/python3.6/site-packages (from tensorboard<2.7,>=2.6.0->tensorflow<2.7,>=2.6.0->tensorflow_text) (2.0.2)\n",
      "Requirement already satisfied: google-auth-oauthlib<0.5,>=0.4.1 in /opt/miniconda3/envs/bads7105/lib/python3.6/site-packages (from tensorboard<2.7,>=2.6.0->tensorflow<2.7,>=2.6.0->tensorflow_text) (0.4.6)\n",
      "Requirement already satisfied: rsa<5,>=3.1.4 in /opt/miniconda3/envs/bads7105/lib/python3.6/site-packages (from google-auth<2,>=1.6.3->tensorboard<2.7,>=2.6.0->tensorflow<2.7,>=2.6.0->tensorflow_text) (4.7.2)\n",
      "Requirement already satisfied: cachetools<5.0,>=2.0.0 in /opt/miniconda3/envs/bads7105/lib/python3.6/site-packages (from google-auth<2,>=1.6.3->tensorboard<2.7,>=2.6.0->tensorflow<2.7,>=2.6.0->tensorflow_text) (4.2.4)\n",
      "Requirement already satisfied: pyasn1-modules>=0.2.1 in /opt/miniconda3/envs/bads7105/lib/python3.6/site-packages (from google-auth<2,>=1.6.3->tensorboard<2.7,>=2.6.0->tensorflow<2.7,>=2.6.0->tensorflow_text) (0.2.8)\n",
      "Requirement already satisfied: requests-oauthlib>=0.7.0 in /opt/miniconda3/envs/bads7105/lib/python3.6/site-packages (from google-auth-oauthlib<0.5,>=0.4.1->tensorboard<2.7,>=2.6.0->tensorflow<2.7,>=2.6.0->tensorflow_text) (1.3.0)\n",
      "Requirement already satisfied: importlib-metadata>=4.4 in /opt/miniconda3/envs/bads7105/lib/python3.6/site-packages (from markdown>=2.6.8->tensorboard<2.7,>=2.6.0->tensorflow<2.7,>=2.6.0->tensorflow_text) (4.8.2)\n"
     ]
    },
    {
     "name": "stdout",
     "output_type": "stream",
     "text": [
      "Requirement already satisfied: chardet<4,>=3.0.2 in /opt/miniconda3/envs/bads7105/lib/python3.6/site-packages (from requests<3,>=2.21.0->tensorboard<2.7,>=2.6.0->tensorflow<2.7,>=2.6.0->tensorflow_text) (3.0.4)\n",
      "Requirement already satisfied: certifi>=2017.4.17 in /opt/miniconda3/envs/bads7105/lib/python3.6/site-packages (from requests<3,>=2.21.0->tensorboard<2.7,>=2.6.0->tensorflow<2.7,>=2.6.0->tensorflow_text) (2021.5.30)\n",
      "Requirement already satisfied: urllib3!=1.25.0,!=1.25.1,<1.26,>=1.21.1 in /opt/miniconda3/envs/bads7105/lib/python3.6/site-packages (from requests<3,>=2.21.0->tensorboard<2.7,>=2.6.0->tensorflow<2.7,>=2.6.0->tensorflow_text) (1.25.11)\n",
      "Requirement already satisfied: idna<3,>=2.5 in /opt/miniconda3/envs/bads7105/lib/python3.6/site-packages (from requests<3,>=2.21.0->tensorboard<2.7,>=2.6.0->tensorflow<2.7,>=2.6.0->tensorflow_text) (2.10)\n",
      "Requirement already satisfied: dataclasses in /opt/miniconda3/envs/bads7105/lib/python3.6/site-packages (from werkzeug>=0.11.15->tensorboard<2.7,>=2.6.0->tensorflow<2.7,>=2.6.0->tensorflow_text) (0.8)\n",
      "Requirement already satisfied: zipp>=0.5 in /opt/miniconda3/envs/bads7105/lib/python3.6/site-packages (from importlib-metadata>=4.4->markdown>=2.6.8->tensorboard<2.7,>=2.6.0->tensorflow<2.7,>=2.6.0->tensorflow_text) (3.6.0)\n",
      "Requirement already satisfied: pyasn1<0.5.0,>=0.4.6 in /opt/miniconda3/envs/bads7105/lib/python3.6/site-packages (from pyasn1-modules>=0.2.1->google-auth<2,>=1.6.3->tensorboard<2.7,>=2.6.0->tensorflow<2.7,>=2.6.0->tensorflow_text) (0.4.8)\n",
      "Requirement already satisfied: oauthlib>=3.0.0 in /opt/miniconda3/envs/bads7105/lib/python3.6/site-packages (from requests-oauthlib>=0.7.0->google-auth-oauthlib<0.5,>=0.4.1->tensorboard<2.7,>=2.6.0->tensorflow<2.7,>=2.6.0->tensorflow_text) (3.1.1)\n",
      "Installing collected packages: typing-extensions\n",
      "  Attempting uninstall: typing-extensions\n",
      "    Found existing installation: typing-extensions 3.10.0.2\n",
      "    Uninstalling typing-extensions-3.10.0.2:\n",
      "      Successfully uninstalled typing-extensions-3.10.0.2\n",
      "\u001b[31mERROR: pip's dependency resolver does not currently take into account all the packages that are installed. This behaviour is the source of the following dependency conflicts.\n",
      "tinydb 4.5.2 requires typing-extensions<4.0.0,>=3.10.0; python_version <= \"3.7\", but you have typing-extensions 3.7.4.3 which is incompatible.\u001b[0m\n",
      "Successfully installed typing-extensions-3.7.4.3\n",
      "Requirement already satisfied: umap-learn in /opt/miniconda3/envs/bads7105/lib/python3.6/site-packages (0.5.2)\n",
      "Requirement already satisfied: scipy>=1.0 in /opt/miniconda3/envs/bads7105/lib/python3.6/site-packages (from umap-learn) (1.5.4)\n",
      "Requirement already satisfied: pynndescent>=0.5 in /opt/miniconda3/envs/bads7105/lib/python3.6/site-packages (from umap-learn) (0.5.5)\n",
      "Requirement already satisfied: scikit-learn>=0.22 in /opt/miniconda3/envs/bads7105/lib/python3.6/site-packages (from umap-learn) (0.23.2)\n",
      "Requirement already satisfied: numba>=0.49 in /opt/miniconda3/envs/bads7105/lib/python3.6/site-packages (from umap-learn) (0.53.1)\n",
      "Requirement already satisfied: tqdm in /opt/miniconda3/envs/bads7105/lib/python3.6/site-packages (from umap-learn) (4.62.3)\n",
      "Requirement already satisfied: numpy>=1.17 in /opt/miniconda3/envs/bads7105/lib/python3.6/site-packages (from umap-learn) (1.19.5)\n",
      "Requirement already satisfied: setuptools in /opt/miniconda3/envs/bads7105/lib/python3.6/site-packages (from numba>=0.49->umap-learn) (59.2.0)\n",
      "Requirement already satisfied: llvmlite<0.37,>=0.36.0rc1 in /opt/miniconda3/envs/bads7105/lib/python3.6/site-packages (from numba>=0.49->umap-learn) (0.36.0)\n",
      "Requirement already satisfied: joblib>=0.11 in /opt/miniconda3/envs/bads7105/lib/python3.6/site-packages (from pynndescent>=0.5->umap-learn) (1.0.1)\n",
      "Requirement already satisfied: threadpoolctl>=2.0.0 in /opt/miniconda3/envs/bads7105/lib/python3.6/site-packages (from scikit-learn>=0.22->umap-learn) (3.0.0)\n"
     ]
    }
   ],
   "source": [
    "!pip install pythainlp\n",
    "!pip install tensorflow_text\n",
    "!pip install umap-learn"
   ]
  },
  {
   "cell_type": "code",
   "execution_count": 2,
   "metadata": {
    "id": "7GvuznzISB-h"
   },
   "outputs": [],
   "source": [
    "import numpy as np\n",
    "import pandas as pd\n",
    "import re\n",
    "\n",
    "import tensorflow as tf\n",
    "import tensorflow_hub as hub\n",
    "import tensorflow_text\n",
    "import umap\n",
    "\n",
    "from sklearn.cluster import KMeans\n",
    "import matplotlib.pyplot as plt\n",
    "\n",
    "from sklearn.cluster import AgglomerativeClustering\n",
    "from sklearn.neighbors import kneighbors_graph\n",
    "\n",
    "import pythainlp\n",
    "from pythainlp.corpus.common import thai_words\n",
    "from pythainlp.util import Trie\n",
    "import collections\n"
   ]
  },
  {
   "cell_type": "code",
   "execution_count": 3,
   "metadata": {
    "id": "fUq1dSYcS5yM"
   },
   "outputs": [],
   "source": [
    "module_url = 'https://tfhub.dev/google/universal-sentence-encoder-multilingual/3' #'https://tfhub.dev/google/universal-sentence-encoder-multilingual/3' for a large model\n",
    "\n",
    "model = hub.load(module_url)"
   ]
  },
  {
   "cell_type": "code",
   "execution_count": 4,
   "metadata": {
    "id": "dZiaG3R4b6kN"
   },
   "outputs": [],
   "source": [
    "df = pd.read_csv(\"Wongnai Reviews - Small.csv\")"
   ]
  },
  {
   "cell_type": "code",
   "execution_count": 5,
   "metadata": {
    "colab": {
     "base_uri": "https://localhost:8080/",
     "height": 204
    },
    "executionInfo": {
     "elapsed": 5,
     "status": "ok",
     "timestamp": 1636856111354,
     "user": {
      "displayName": "Thanachart Ritbumroong",
      "photoUrl": "https://lh3.googleusercontent.com/a/default-user=s64",
      "userId": "18414212507793256437"
     },
     "user_tz": -420
    },
    "id": "gonSv6i4cVs1",
    "outputId": "f6e90271-f58b-4cb1-dcde-009ce6be5394"
   },
   "outputs": [
    {
     "data": {
      "text/html": [
       "<div>\n",
       "<style scoped>\n",
       "    .dataframe tbody tr th:only-of-type {\n",
       "        vertical-align: middle;\n",
       "    }\n",
       "\n",
       "    .dataframe tbody tr th {\n",
       "        vertical-align: top;\n",
       "    }\n",
       "\n",
       "    .dataframe thead th {\n",
       "        text-align: right;\n",
       "    }\n",
       "</style>\n",
       "<table border=\"1\" class=\"dataframe\">\n",
       "  <thead>\n",
       "    <tr style=\"text-align: right;\">\n",
       "      <th></th>\n",
       "      <th>Review ID</th>\n",
       "      <th>Review</th>\n",
       "    </tr>\n",
       "  </thead>\n",
       "  <tbody>\n",
       "    <tr>\n",
       "      <th>0</th>\n",
       "      <td>1</td>\n",
       "      <td>เป็นคนที่ชอบทาน Macchiato เป็นประจำ มีวันนึงเด...</td>\n",
       "    </tr>\n",
       "    <tr>\n",
       "      <th>1</th>\n",
       "      <td>2</td>\n",
       "      <td>Art of Coffee Kasetsart เป็นร้านกาแฟรสชาติเยี่...</td>\n",
       "    </tr>\n",
       "    <tr>\n",
       "      <th>2</th>\n",
       "      <td>3</td>\n",
       "      <td>กวงทะเลเผา อาหารทะเลเค้าสดจริงๆเนื้อปูหวานไม่ค...</td>\n",
       "    </tr>\n",
       "    <tr>\n",
       "      <th>3</th>\n",
       "      <td>4</td>\n",
       "      <td>วันนี้มีโอกาสตื่นเช้าครับเลยถึงโอกาสออกมาหาอะไ...</td>\n",
       "    </tr>\n",
       "    <tr>\n",
       "      <th>4</th>\n",
       "      <td>5</td>\n",
       "      <td>ชอบมาทานร้านนี้ถ้าอยากกินอาหารเวียดนามใกล้บ้าน...</td>\n",
       "    </tr>\n",
       "  </tbody>\n",
       "</table>\n",
       "</div>"
      ],
      "text/plain": [
       "   Review ID                                             Review\n",
       "0          1  เป็นคนที่ชอบทาน Macchiato เป็นประจำ มีวันนึงเด...\n",
       "1          2  Art of Coffee Kasetsart เป็นร้านกาแฟรสชาติเยี่...\n",
       "2          3  กวงทะเลเผา อาหารทะเลเค้าสดจริงๆเนื้อปูหวานไม่ค...\n",
       "3          4  วันนี้มีโอกาสตื่นเช้าครับเลยถึงโอกาสออกมาหาอะไ...\n",
       "4          5  ชอบมาทานร้านนี้ถ้าอยากกินอาหารเวียดนามใกล้บ้าน..."
      ]
     },
     "execution_count": 5,
     "metadata": {},
     "output_type": "execute_result"
    }
   ],
   "source": [
    "df.head()"
   ]
  },
  {
   "cell_type": "markdown",
   "metadata": {
    "id": "Oowl7VYeP3gK"
   },
   "source": [
    "**Step 1 - document embedding and dimension reduction**"
   ]
  },
  {
   "cell_type": "code",
   "execution_count": 6,
   "metadata": {
    "colab": {
     "base_uri": "https://localhost:8080/"
    },
    "executionInfo": {
     "elapsed": 10692,
     "status": "ok",
     "timestamp": 1636856122042,
     "user": {
      "displayName": "Thanachart Ritbumroong",
      "photoUrl": "https://lh3.googleusercontent.com/a/default-user=s64",
      "userId": "18414212507793256437"
     },
     "user_tz": -420
    },
    "id": "e29WZmM4cCOS",
    "outputId": "113c66dc-df35-44fa-8f99-3f64ec05c077"
   },
   "outputs": [
    {
     "data": {
      "text/plain": [
       "array([[ 0.08993826,  0.01941085,  0.03787038, ..., -0.03488844,\n",
       "         0.06299514,  0.04635989],\n",
       "       [ 0.0063424 ,  0.00814589,  0.03071938, ..., -0.0147872 ,\n",
       "        -0.03080934, -0.03316406],\n",
       "       [ 0.06336872, -0.02027136, -0.05077001, ..., -0.06530774,\n",
       "        -0.00952993, -0.03439992],\n",
       "       ...,\n",
       "       [ 0.08775924,  0.03609739,  0.01263061, ..., -0.03102784,\n",
       "        -0.03361677,  0.01928869],\n",
       "       [ 0.05691192,  0.05381693, -0.03995753, ..., -0.06598807,\n",
       "        -0.05390477, -0.01037731],\n",
       "       [ 0.0777048 ,  0.05080627,  0.02680678, ..., -0.00614127,\n",
       "        -0.01313569,  0.02236262]], dtype=float32)"
      ]
     },
     "execution_count": 6,
     "metadata": {},
     "output_type": "execute_result"
    }
   ],
   "source": [
    "#embed sentences using Universal Sentence Encoder (USE)\n",
    "\n",
    "embed_comments_array = model(df['Review'].values).numpy()\n",
    "embed_comments_array"
   ]
  },
  {
   "cell_type": "code",
   "execution_count": 7,
   "metadata": {
    "colab": {
     "base_uri": "https://localhost:8080/"
    },
    "executionInfo": {
     "elapsed": 9055,
     "status": "ok",
     "timestamp": 1636856131093,
     "user": {
      "displayName": "Thanachart Ritbumroong",
      "photoUrl": "https://lh3.googleusercontent.com/a/default-user=s64",
      "userId": "18414212507793256437"
     },
     "user_tz": -420
    },
    "id": "5gps1fE8ctMQ",
    "outputId": "130e0ea3-0709-42ef-cbe6-0676d7402c53"
   },
   "outputs": [],
   "source": [
    "#reduce array dimensions using umap (you can chagne n_components)\n",
    "\n",
    "reducer = umap.UMAP(random_state=42,n_components=50)\n",
    "umap_embed_comments_array = reducer.fit_transform(embed_comments_array)"
   ]
  },
  {
   "cell_type": "markdown",
   "metadata": {
    "id": "s5qq2RQlQJbV"
   },
   "source": [
    "**Step 2 - document clustering using KMeans**"
   ]
  },
  {
   "cell_type": "code",
   "execution_count": 8,
   "metadata": {
    "colab": {
     "base_uri": "https://localhost:8080/",
     "height": 312
    },
    "executionInfo": {
     "elapsed": 1056,
     "status": "ok",
     "timestamp": 1636856132141,
     "user": {
      "displayName": "Thanachart Ritbumroong",
      "photoUrl": "https://lh3.googleusercontent.com/a/default-user=s64",
      "userId": "18414212507793256437"
     },
     "user_tz": -420
    },
    "id": "2IkMb1UIF3k5",
    "outputId": "3b7604c6-a1e2-456b-855e-be0a6b7a53c1"
   },
   "outputs": [
    {
     "data": {
      "text/plain": [
       "Text(0, 0.5, 'WCSS')"
      ]
     },
     "execution_count": 8,
     "metadata": {},
     "output_type": "execute_result"
    },
    {
     "data": {
      "image/png": "[encoded data removed]",
      "text/plain": [
       "<Figure size 432x288 with 1 Axes>"
      ]
     },
     "metadata": {
      "needs_background": "light"
     },
     "output_type": "display_data"
    }
   ],
   "source": [
    "#run kmeans with various number of k. evaluate no. of k based on the elbow plot\n",
    "\n",
    "wcss=[]\n",
    "max_k = 10\n",
    "for i in range(1, max_k):\n",
    "  kmeans = KMeans(i)\n",
    "  kmeans.fit(umap_embed_comments_array)\n",
    "  wcss_iter = kmeans.inertia_\n",
    "  wcss.append(wcss_iter)\n",
    "\n",
    "number_clusters = range(1, max_k)\n",
    "plt.plot(number_clusters,wcss)\n",
    "plt.title('The Elbow title')\n",
    "plt.xlabel('Number of clusters')\n",
    "plt.ylabel('WCSS')"
   ]
  },
  {
   "cell_type": "code",
   "execution_count": 9,
   "metadata": {
    "id": "1o0czkMVdSJ5"
   },
   "outputs": [],
   "source": [
    "#run kmeans with no. of clusters you see fit the most\n",
    "\n",
    "k = 4\n",
    "\n",
    "kmeans = KMeans(n_clusters = k)\n",
    "kmeans.fit(umap_embed_comments_array)\n",
    "\n",
    "df['KMeans ID'] = kmeans.labels_"
   ]
  },
  {
   "cell_type": "code",
   "execution_count": 10,
   "metadata": {
    "id": "bf3R2QBr3oOq"
   },
   "outputs": [],
   "source": [
    "#merge all reviews of each cluster into one big sentence \n",
    "\n",
    "df_kmeans = pd.DataFrame(columns=[\"KMeans ID\", \"texts\"])\n",
    "\n",
    "\n",
    "for i in range(0, k):\n",
    "  row = []\n",
    "  row.append(i)\n",
    "  row.append(df['Review'][df['KMeans ID'] == i].to_string())\n",
    "  df_kmeans.loc[len(df_kmeans)] = row"
   ]
  },
  {
   "cell_type": "code",
   "execution_count": 11,
   "metadata": {
    "colab": {
     "base_uri": "https://localhost:8080/",
     "height": 173
    },
    "executionInfo": {
     "elapsed": 4,
     "status": "ok",
     "timestamp": 1636856132142,
     "user": {
      "displayName": "Thanachart Ritbumroong",
      "photoUrl": "https://lh3.googleusercontent.com/a/default-user=s64",
      "userId": "18414212507793256437"
     },
     "user_tz": -420
    },
    "id": "UFo_nqQEL08U",
    "outputId": "760681d4-25fc-4f5a-c8cc-754a9cf5abaf"
   },
   "outputs": [
    {
     "data": {
      "text/html": [
       "<div>\n",
       "<style scoped>\n",
       "    .dataframe tbody tr th:only-of-type {\n",
       "        vertical-align: middle;\n",
       "    }\n",
       "\n",
       "    .dataframe tbody tr th {\n",
       "        vertical-align: top;\n",
       "    }\n",
       "\n",
       "    .dataframe thead th {\n",
       "        text-align: right;\n",
       "    }\n",
       "</style>\n",
       "<table border=\"1\" class=\"dataframe\">\n",
       "  <thead>\n",
       "    <tr style=\"text-align: right;\">\n",
       "      <th></th>\n",
       "      <th>KMeans ID</th>\n",
       "      <th>texts</th>\n",
       "    </tr>\n",
       "  </thead>\n",
       "  <tbody>\n",
       "    <tr>\n",
       "      <th>0</th>\n",
       "      <td>0</td>\n",
       "      <td>0      เป็นคนที่ชอบทาน Macchiato เป็นประจำ มีว...</td>\n",
       "    </tr>\n",
       "    <tr>\n",
       "      <th>1</th>\n",
       "      <td>1</td>\n",
       "      <td>3      วันนี้มีโอกาสตื่นเช้าครับเลยถึงโอกาสออก...</td>\n",
       "    </tr>\n",
       "    <tr>\n",
       "      <th>2</th>\n",
       "      <td>2</td>\n",
       "      <td>13     เคยเป็นไหมกันไหมคะ หลังอาหารมื้อใหญ่ ต่...</td>\n",
       "    </tr>\n",
       "    <tr>\n",
       "      <th>3</th>\n",
       "      <td>3</td>\n",
       "      <td>2      กวงทะเลเผา อาหารทะเลเค้าสดจริงๆเนื้อปูห...</td>\n",
       "    </tr>\n",
       "  </tbody>\n",
       "</table>\n",
       "</div>"
      ],
      "text/plain": [
       "  KMeans ID                                              texts\n",
       "0         0  0      เป็นคนที่ชอบทาน Macchiato เป็นประจำ มีว...\n",
       "1         1  3      วันนี้มีโอกาสตื่นเช้าครับเลยถึงโอกาสออก...\n",
       "2         2  13     เคยเป็นไหมกันไหมคะ หลังอาหารมื้อใหญ่ ต่...\n",
       "3         3  2      กวงทะเลเผา อาหารทะเลเค้าสดจริงๆเนื้อปูห..."
      ]
     },
     "execution_count": 11,
     "metadata": {},
     "output_type": "execute_result"
    }
   ],
   "source": [
    "df_kmeans"
   ]
  },
  {
   "cell_type": "code",
   "execution_count": 12,
   "metadata": {
    "id": "JydvwIz5NcaI"
   },
   "outputs": [],
   "source": [
    "#create regex compiler for removal of a character you don't want\n",
    "\n",
    "special_characters = \"/[!@#$%^&*']/g\"\n",
    "\n",
    "specialchar_pattern = re.compile(special_characters)"
   ]
  },
  {
   "cell_type": "code",
   "execution_count": 13,
   "metadata": {
    "id": "R8ymEA_2EhGi"
   },
   "outputs": [],
   "source": [
    "#create regex compiler for removal of any emoji\n",
    "\n",
    "emoji_pattern = re.compile(\"[\"\n",
    "        u\"\\U0001F600-\\U0001F64F\"  # emoticons\n",
    "        u\"\\U0001F300-\\U0001F5FF\"  # symbols & pictographs\n",
    "        u\"\\U0001F680-\\U0001F6FF\"  # transport & map symbols\n",
    "        u\"\\U0001F1E0-\\U0001F1FF\"  # flags (iOS)\n",
    "                           \"]+\", flags=re.UNICODE)"
   ]
  },
  {
   "cell_type": "code",
   "execution_count": 14,
   "metadata": {
    "id": "9Q93YKJZK5ak"
   },
   "outputs": [],
   "source": [
    "#create regex compiler for removal of digit\n",
    "\n",
    "number_pattern = re.compile(\"[0-9]\")"
   ]
  },
  {
   "cell_type": "code",
   "execution_count": 15,
   "metadata": {
    "id": "sHZ0HKlXNeSi"
   },
   "outputs": [],
   "source": [
    "#create regex compiler for removal of white space\n",
    "\n",
    "space_pattern = re.compile(\"\\s+\")"
   ]
  },
  {
   "cell_type": "code",
   "execution_count": 16,
   "metadata": {
    "id": "-orHzqLkNupd"
   },
   "outputs": [],
   "source": [
    "#create regex compiler for removal of .\n",
    "\n",
    "dot_pattern = re.compile(r\"\\.+\")"
   ]
  },
  {
   "cell_type": "code",
   "execution_count": 17,
   "metadata": {
    "id": "v7bW9th9N7oG"
   },
   "outputs": [],
   "source": [
    "#create regex compiler for removal of \\\n",
    "\n",
    "backslash_pattern = re.compile(r\"\\\\+\")"
   ]
  },
  {
   "cell_type": "code",
   "execution_count": 18,
   "metadata": {
    "id": "ZGVvQhZz4tGs"
   },
   "outputs": [],
   "source": [
    "#define a function to tokenize a sentence into words - you can define words you want to remove as well as new words for tokenization\n",
    "\n",
    "stopwords = list(pythainlp.corpus.thai_stopwords())\n",
    "removed_words = ['u', 'b', 'n', 'nn', 'nn-', '\\n', 'ร้าน', 'กิน']\n",
    "screening_words = stopwords + removed_words\n",
    "\n",
    "new_words = {\"สตารบัก\"}\n",
    "\n",
    "words = new_words.union(thai_words())\n",
    "\n",
    "custom_dictionary_trie = Trie(words)\n",
    "\n",
    "def tokenize_to_list(sentence):\n",
    "  merged = []\n",
    "  words = pythainlp.word_tokenize(str(sentence), engine='newmm', custom_dict=custom_dictionary_trie)\n",
    "  for word in words:\n",
    "    if word not in screening_words:\n",
    "      merged.append(word)\n",
    "  return merged"
   ]
  },
  {
   "cell_type": "code",
   "execution_count": 19,
   "metadata": {
    "id": "MnN1ekEoL9ug"
   },
   "outputs": [],
   "source": [
    "#clean and tokenize sentences. count the occurences of each word\n",
    "\n",
    "df_kmeans['texts'] = df_kmeans['texts'].apply(lambda x: emoji_pattern.sub(r'', x))\n",
    "df_kmeans['texts'] = df_kmeans['texts'].apply(lambda x: specialchar_pattern.sub(r'', x))\n",
    "df_kmeans['texts'] = df_kmeans['texts'].apply(lambda x: number_pattern.sub(r'', x))\n",
    "df_kmeans['texts'] = df_kmeans['texts'].apply(lambda x: space_pattern.sub(r'', x))\n",
    "df_kmeans['texts'] = df_kmeans['texts'].apply(lambda x: dot_pattern.sub(r'', x))\n",
    "df_kmeans['texts'] = df_kmeans['texts'].apply(lambda x: backslash_pattern.sub(r'', x))\n",
    "df_kmeans['texts_tokenized'] = df_kmeans['texts'].apply(lambda x: tokenize_to_list(x))\n",
    "df_kmeans['texts_count'] = df_kmeans['texts_tokenized'].apply(lambda x: collections.Counter(x).most_common())"
   ]
  },
  {
   "cell_type": "code",
   "execution_count": 20,
   "metadata": {
    "colab": {
     "base_uri": "https://localhost:8080/",
     "height": 173
    },
    "executionInfo": {
     "elapsed": 8,
     "status": "ok",
     "timestamp": 1636856147756,
     "user": {
      "displayName": "Thanachart Ritbumroong",
      "photoUrl": "https://lh3.googleusercontent.com/a/default-user=s64",
      "userId": "18414212507793256437"
     },
     "user_tz": -420
    },
    "id": "G0jG1yO889B2",
    "outputId": "5c6a0e78-fe95-4b79-d94e-89f9b58f263a"
   },
   "outputs": [
    {
     "data": {
      "text/html": [
       "<div>\n",
       "<style scoped>\n",
       "    .dataframe tbody tr th:only-of-type {\n",
       "        vertical-align: middle;\n",
       "    }\n",
       "\n",
       "    .dataframe tbody tr th {\n",
       "        vertical-align: top;\n",
       "    }\n",
       "\n",
       "    .dataframe thead th {\n",
       "        text-align: right;\n",
       "    }\n",
       "</style>\n",
       "<table border=\"1\" class=\"dataframe\">\n",
       "  <thead>\n",
       "    <tr style=\"text-align: right;\">\n",
       "      <th></th>\n",
       "      <th>KMeans ID</th>\n",
       "      <th>texts</th>\n",
       "      <th>texts_tokenized</th>\n",
       "      <th>texts_count</th>\n",
       "    </tr>\n",
       "  </thead>\n",
       "  <tbody>\n",
       "    <tr>\n",
       "      <th>0</th>\n",
       "      <td>0</td>\n",
       "      <td>เป็นคนที่ชอบทานMacchiatoเป็นประจำมีวันนึงเดArt...</td>\n",
       "      <td>[คน, ชอบ, ทาน, Macchiato, เป็นประจำ, นึง, เด, ...</td>\n",
       "      <td>[(ร้านกาแฟ, 23), (กาแฟ, 19), (ทาน, 11), (ชอบ, ...</td>\n",
       "    </tr>\n",
       "    <tr>\n",
       "      <th>1</th>\n",
       "      <td>1</td>\n",
       "      <td>วันนี้มีโอกาสตื่นเช้าครับเลยถึงโอกาสออกมาหาอะไ...</td>\n",
       "      <td>[มีโอกาส, ตื่น, เช้า, โอกาส, มาหา, อะ, ไช, อบ,...</td>\n",
       "      <td>[(อร่อย, 9), (ทาน, 7), (ผม, 7), (รีวิว, 6), (อ...</td>\n",
       "    </tr>\n",
       "    <tr>\n",
       "      <th>2</th>\n",
       "      <td>2</td>\n",
       "      <td>เคยเป็นไหมกันไหมคะหลังอาหารมื้อใหญ่ต่อให้อิ่เช...</td>\n",
       "      <td>[ไหม, ไหม, หลังอาหาร, มื้อ, ต่อให้, อิ่, เช้า,...</td>\n",
       "      <td>[(ชา, 18), (นม, 14), (ไข่มุก, 14), (ทาน, 6), (...</td>\n",
       "    </tr>\n",
       "    <tr>\n",
       "      <th>3</th>\n",
       "      <td>3</td>\n",
       "      <td>กวงทะเลเผาอาหารทะเลเค้าสดจริงๆเนื้อปูหวานไม่คส...</td>\n",
       "      <td>[กวง, ทะเล, เผา, อาหารทะเล, เค้า, สด, เนื้อ, ป...</td>\n",
       "      <td>[(ร้านอาหาร, 11), (กก, 7), (อร่อย, 6), (ซอย, 6...</td>\n",
       "    </tr>\n",
       "  </tbody>\n",
       "</table>\n",
       "</div>"
      ],
      "text/plain": [
       "  KMeans ID                                              texts  \\\n",
       "0         0  เป็นคนที่ชอบทานMacchiatoเป็นประจำมีวันนึงเดArt...   \n",
       "1         1  วันนี้มีโอกาสตื่นเช้าครับเลยถึงโอกาสออกมาหาอะไ...   \n",
       "2         2  เคยเป็นไหมกันไหมคะหลังอาหารมื้อใหญ่ต่อให้อิ่เช...   \n",
       "3         3  กวงทะเลเผาอาหารทะเลเค้าสดจริงๆเนื้อปูหวานไม่คส...   \n",
       "\n",
       "                                     texts_tokenized  \\\n",
       "0  [คน, ชอบ, ทาน, Macchiato, เป็นประจำ, นึง, เด, ...   \n",
       "1  [มีโอกาส, ตื่น, เช้า, โอกาส, มาหา, อะ, ไช, อบ,...   \n",
       "2  [ไหม, ไหม, หลังอาหาร, มื้อ, ต่อให้, อิ่, เช้า,...   \n",
       "3  [กวง, ทะเล, เผา, อาหารทะเล, เค้า, สด, เนื้อ, ป...   \n",
       "\n",
       "                                         texts_count  \n",
       "0  [(ร้านกาแฟ, 23), (กาแฟ, 19), (ทาน, 11), (ชอบ, ...  \n",
       "1  [(อร่อย, 9), (ทาน, 7), (ผม, 7), (รีวิว, 6), (อ...  \n",
       "2  [(ชา, 18), (นม, 14), (ไข่มุก, 14), (ทาน, 6), (...  \n",
       "3  [(ร้านอาหาร, 11), (กก, 7), (อร่อย, 6), (ซอย, 6...  "
      ]
     },
     "execution_count": 20,
     "metadata": {},
     "output_type": "execute_result"
    }
   ],
   "source": [
    "#results of tokenization\n",
    "\n",
    "df_kmeans"
   ]
  },
  {
   "cell_type": "code",
   "execution_count": 21,
   "metadata": {
    "colab": {
     "base_uri": "https://localhost:8080/"
    },
    "executionInfo": {
     "elapsed": 7,
     "status": "ok",
     "timestamp": 1636856147756,
     "user": {
      "displayName": "Thanachart Ritbumroong",
      "photoUrl": "https://lh3.googleusercontent.com/a/default-user=s64",
      "userId": "18414212507793256437"
     },
     "user_tz": -420
    },
    "id": "n0LZ5H8_Dqvn",
    "outputId": "adf5dfd7-526e-4b83-8ee4-d25477fe9a09"
   },
   "outputs": [
    {
     "name": "stdout",
     "output_type": "stream",
     "text": [
      "Cluster ID : 0\n",
      "\n",
      "Most common words include : [('ร้านกาแฟ', 23), ('กาแฟ', 19), ('ทาน', 11), ('ชอบ', 7), ('คาเฟ่', 6), ('น่ารัก', 5), ('น', 5), ('นั่ง', 5), ('เจอ', 5), ('แวะ', 5)]\n",
      "\n",
      "Cluster ID : 1\n",
      "\n",
      "Most common words include : [('อร่อย', 9), ('ทาน', 7), ('ผม', 7), ('รีวิว', 6), ('อาหาร', 5), ('บ้าน', 5), ('ชอบ', 5), ('กาแฟ', 5), ('กก', 5), ('ร้านกาแฟ', 4)]\n",
      "\n",
      "Cluster ID : 2\n",
      "\n",
      "Most common words include : [('ชา', 18), ('นม', 14), ('ไข่มุก', 14), ('ทาน', 6), ('เครื่องดื่ม', 4), ('ร้า', 3), ('น้ำ', 3), ('ตั้งอยู่', 3), ('รีวิว', 3), ('ลอง', 3)]\n",
      "\n",
      "Cluster ID : 3\n",
      "\n",
      "Most common words include : [('ร้านอาหาร', 11), ('กก', 7), ('อร่อย', 6), ('ซอย', 6), ('อาหาร', 6), ('ทาน', 5), ('ราคา', 5), ('สวัสดี', 4), ('เพื่อน', 4), ('ส้มตำ', 4)]\n",
      "\n"
     ]
    }
   ],
   "source": [
    "#show top keywords of each cluster\n",
    "\n",
    "top_N_words = 10\n",
    "\n",
    "for i in range(0, len(df_kmeans)):\n",
    "  print(f\"Cluster ID : {i}\\n\")\n",
    "  print(f\"Most common words include : {list(df_kmeans['texts_count'][i])[:top_N_words]}\\n\")\n",
    "\n",
    "#tune a model by remove unwanted characters and words and add more words to a custom dictionary"
   ]
  },
  {
   "cell_type": "markdown",
   "metadata": {
    "id": "9Qe8TReCQTOo"
   },
   "source": [
    "**Step 3 - document clustering using Agglomorative Clustering with cosine similarity**"
   ]
  },
  {
   "cell_type": "code",
   "execution_count": 22,
   "metadata": {
    "id": "VWgW-tCkcPgU"
   },
   "outputs": [],
   "source": [
    "#clustering using agglomorative clustering\n",
    "\n",
    "knn_graph = kneighbors_graph(embed_comments_array, 5, include_self=False)\n",
    "model = AgglomerativeClustering(linkage=\"average\", connectivity=knn_graph, n_clusters=10, affinity=\"cosine\")\n",
    "model.fit(embed_comments_array)\n",
    "df['Agglomerative ID'] = model.labels_"
   ]
  },
  {
   "cell_type": "code",
   "execution_count": 23,
   "metadata": {
    "id": "XHfsJyL8dmGC"
   },
   "outputs": [],
   "source": [
    "#merge all reviews of each cluster into one big sentence \n",
    "\n",
    "df_Agglomerative = pd.DataFrame(columns=[\"Agglomerative ID\", \"texts\"])\n",
    "\n",
    "\n",
    "for i in range(0, k):\n",
    "  row = []\n",
    "  row.append(i)\n",
    "  row.append(str(df['Review'][df['Agglomerative ID'] == i].tolist()))\n",
    "  df_Agglomerative.loc[len(df_Agglomerative)] = row"
   ]
  },
  {
   "cell_type": "code",
   "execution_count": 24,
   "metadata": {
    "id": "7hsSbTWvdtK2"
   },
   "outputs": [],
   "source": [
    "#clean and tokenize sentences. count the occurences of each word\n",
    "\n",
    "df_Agglomerative['texts'] = df_Agglomerative['texts'].apply(lambda x: emoji_pattern.sub(r'', x))\n",
    "df_Agglomerative['texts'] = df_Agglomerative['texts'].apply(lambda x: specialchar_pattern.sub(r'', x))\n",
    "df_Agglomerative['texts'] = df_Agglomerative['texts'].apply(lambda x: number_pattern.sub(r'', x))\n",
    "df_Agglomerative['texts'] = df_Agglomerative['texts'].apply(lambda x: space_pattern.sub(r'', x))\n",
    "df_Agglomerative['texts'] = df_Agglomerative['texts'].apply(lambda x: dot_pattern.sub(r'', x))\n",
    "df_Agglomerative['texts'] = df_Agglomerative['texts'].apply(lambda x: backslash_pattern.sub(r'', x))\n",
    "df_Agglomerative['texts_tokenized'] = df_Agglomerative['texts'].apply(lambda x: tokenize_to_list(x))\n",
    "df_Agglomerative['texts_count'] = df_Agglomerative['texts_tokenized'].apply(lambda x: collections.Counter(x).most_common())"
   ]
  },
  {
   "cell_type": "code",
   "execution_count": 25,
   "metadata": {
    "colab": {
     "base_uri": "https://localhost:8080/"
    },
    "executionInfo": {
     "elapsed": 336,
     "status": "ok",
     "timestamp": 1636856215838,
     "user": {
      "displayName": "Thanachart Ritbumroong",
      "photoUrl": "https://lh3.googleusercontent.com/a/default-user=s64",
      "userId": "18414212507793256437"
     },
     "user_tz": -420
    },
    "id": "HsRWk5oHd0UH",
    "outputId": "3652e725-6a84-4f67-d6da-1a4b5fb13a32"
   },
   "outputs": [
    {
     "name": "stdout",
     "output_type": "stream",
     "text": [
      "Cluster ID : 0\n",
      "\n",
      "Most common words include : [('อร่อย', 508), ('ทาน', 416), ('รสชาติ', 407), ('ดี', 347), ('กาแฟ', 311), ('เมนู', 309), ('สั่ง', 301), ('อาหาร', 285), ('ราคา', 273), ('(', 270)]\n",
      "\n",
      "Cluster ID : 1\n",
      "\n",
      "Most common words include : [('แตงโม', 22), ('น้ำ', 8), ('ปั่น', 6), ('เนื้อ', 6), ('เลือก', 4), ('ซื้อ', 4), ('ดื่ม', 4), ('พันธุ์', 3), ('รับประทาน', 3), ('แก้', 3)]\n",
      "\n",
      "Cluster ID : 2\n",
      "\n",
      "Most common words include : [('ดิชั้น', 4), ('แย่มาก', 3), ('โต๊ะ', 2), ('รอง', 2), ('แก้ว', 2), (\"['\", 1), ('ดิ', 1), ('ช้ัน', 1), ('ทบ', 1), ('น', 1)]\n",
      "\n",
      "Cluster ID : 3\n",
      "\n",
      "Most common words include : [('นม', 3), ('แน่น', 2), ('tamp', 2), ('เท', 2), ('แก้', 2), (\"['\", 1), ('เรื่อง', 1), ('ขนม', 1), ('สันทัด', 1), ('ดังนั้น', 1)]\n",
      "\n"
     ]
    }
   ],
   "source": [
    "#show top keywords of each cluster\n",
    "\n",
    "top_N_words = 10\n",
    "\n",
    "for i in range(0, len(df_Agglomerative)):\n",
    "  print(f\"Cluster ID : {i}\\n\")\n",
    "  print(f\"Most common words include : {list(df_Agglomerative['texts_count'][i])[:top_N_words]}\\n\")"
   ]
  },
  {
   "cell_type": "markdown",
   "metadata": {
    "id": "3aNJxg2ATtmK"
   },
   "source": [
    "**Step 4 - result discussion**"
   ]
  },
  {
   "cell_type": "markdown",
   "metadata": {
    "id": "cQ2SOjNKT1d7"
   },
   "source": [
    "เราแบ่งลูกคต้าเป็น 4 กลุ่ม (อ้างอิงจาก Elbow point)\n",
    "\n",
    "K-mean\n",
    "\n",
    "กลุ่มแรก ; ส่วนใหญ่พูดถึงคาเฟ่ และ กาแฟ แสดงว่าน่าจะเป็นกลุ่มลูกค้าที่มาใช้บริการเพราะ อยากมาทานกาแฟ หรือเป็นกลุ่มที่มาเพราะกำลังหาร้านประเภทคาเฟ่อยู่\n",
    "\n",
    "\n",
    "กลุ่มที่สอง ; ส่วนใหญ่ พูดถึงเกี่ยวกับ การรับประทานอาหาร และ กาแฟ กลุ่มนี้อาจเป็นกลุ่มที่มาที่ร้าน แล้วคาดหวังในเรื่องของรสชาติอาหาร\n",
    "\n",
    "\n",
    "กลุ่มที่สาม ; กลุ่มนี้เห็นได้ชัดเจนว่า ให้ความสนใจเกี่ยวกับชานมไข่มุก\n",
    "\n",
    "\n",
    "กลุ่มที่สี่ ; เป็นกลุ่มที่มาที่ร้านและให้ความสนใจเกี่ยวกับอาหาร โดยเฉพาะ ส้มตำ มีคนพูดถึง ถึง 4 คน\n",
    "\n",
    "algomerative clustering\n",
    "\n",
    "กลุ่มแรก ; ให้ความสนใจที่อาหารและกาแฟ\n",
    "\n",
    "\n",
    "กลุ่มที่สอง ; พูดถึงเรื่องเครื่องดื่ม และ แตงโม อาจจะหมายถึง แตงโมปั่น\n",
    "\n",
    "\n",
    "กลุ่มที่สาม ; กลุ่มนี้น่าจะเป็น ผู้หญิง และเป็นกลุ่มที่ comment ในด้านลบบางอย่าง\n",
    "\n",
    "\n",
    "กลุ่มที่สี่ ; เป็นกลุ่มที่มีสัดส่วนน้อยที่สุด โดยพูดถึงนม กับ แน่น น่าจะหมายถึง เครื่องดื่มบางประเภทที่ใส่นม "
   ]
  },
  {
   "cell_type": "code",
   "execution_count": null,
   "metadata": {},
   "outputs": [],
   "source": []
  }
 ],
 "metadata": {
  "colab": {
   "authorship_tag": "ABX9TyPFn/Qs6op6zYiDtlvfGvUN",
   "collapsed_sections": [],
   "name": "Clustering Documents - Universal Sentence Encoder with Clustering.ipynb",
   "provenance": []
  },
  "kernelspec": {
   "display_name": "Python 3",
   "language": "python",
   "name": "python3"
  },
  "language_info": {
   "codemirror_mode": {
    "name": "ipython",
    "version": 3
   },
   "file_extension": ".py",
   "mimetype": "text/x-python",
   "name": "python",
   "nbconvert_exporter": "python",
   "pygments_lexer": "ipython3",
   "version": "3.6.13"
  }
 },
 "nbformat": 4,
 "nbformat_minor": 1
}
